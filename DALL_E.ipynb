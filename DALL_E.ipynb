{
  "nbformat": 4,
  "nbformat_minor": 0,
  "metadata": {
    "colab": {
      "provenance": []
    },
    "kernelspec": {
      "name": "python3",
      "display_name": "Python 3"
    },
    "language_info": {
      "name": "python"
    }
  },
  "cells": [
    {
      "cell_type": "code",
      "execution_count": 1,
      "metadata": {
        "id": "HPRw5MOg_asi",
        "outputId": "ed8e58b3-0aca-4c8d-b0aa-266665f10924",
        "colab": {
          "base_uri": "https://localhost:8080/"
        }
      },
      "outputs": [
        {
          "output_type": "stream",
          "name": "stdout",
          "text": [
            "Error en la solicitud: {\n",
            "  \"error\": {\n",
            "    \"code\": null,\n",
            "    \"message\": \"Invalid URL (POST /v1/images)\",\n",
            "    \"param\": null,\n",
            "    \"type\": \"invalid_request_error\"\n",
            "  }\n",
            "}\n",
            "\n"
          ]
        }
      ],
      "source": [
        "import requests\n",
        "\n",
        "# Configura tu clave de API de OpenAI aquí\n",
        "api_key = \"TU_CLAVE_DE_API\"\n",
        "\n",
        "# URL de la API de DALL-E de OpenAI\n",
        "url = \"https://api.openai.com/v1/images\"\n",
        "\n",
        "# Descripción de texto para generar una imagen\n",
        "description = \"Un elefante rosa sobre una nube de algodón.\"\n",
        "\n",
        "# Parámetros para la solicitud\n",
        "data = {\n",
        "    \"prompt\": description,\n",
        "    \"model\": \"image-alpha-001\",  # Puedes probar con otros modelos también\n",
        "}\n",
        "\n",
        "# Configura las cabeceras con la clave de API\n",
        "headers = {\n",
        "    \"Content-Type\": \"application/json\",\n",
        "    \"Authorization\": f\"Bearer {api_key}\",\n",
        "}\n",
        "\n",
        "# Realiza la solicitud a la API de DALL-E\n",
        "response = requests.post(url, json=data, headers=headers)\n",
        "\n",
        "# Obtiene la URL de la imagen generada\n",
        "if response.status_code == 200:\n",
        "    image_url = response.json().get(\"data\", {}).get(\"url\", \"\")\n",
        "    print(\"Imagen generada:\", image_url)\n",
        "else:\n",
        "    print(\"Error en la solicitud:\", response.text)\n"
      ]
    }
  ]
}